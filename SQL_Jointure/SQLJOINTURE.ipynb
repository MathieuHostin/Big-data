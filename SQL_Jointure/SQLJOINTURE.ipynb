{
 "cells": [
  {
   "cell_type": "code",
   "execution_count": 11,
   "metadata": {},
   "outputs": [],
   "source": [
    "import findspark\n",
    "import py4j\n",
    "findspark.init(\"D:\\logiciels\\spark\")\n",
    "\n",
    "from pyspark.sql import SparkSession\n",
    "from pyspark import SparkContext, SparkConf\n",
    "from pyspark.sql.functions import col\n",
    "from pyspark.sql import functions as F\n",
    "from pyspark.sql.types import IntegerType"
   ]
  },
  {
   "cell_type": "code",
   "execution_count": 2,
   "metadata": {},
   "outputs": [],
   "source": [
    "conf = SparkConf().set('spark.driver.host','127.0.0.1')\n",
    "sc = SparkContext(master='local', appName='myAppName',conf=conf)\n",
    "spark = SparkSession.builder\\\n",
    "                    .master(\"local[*]\")\\\n",
    "                    .appName(\"CreateTable\")\\\n",
    "                    .getOrCreate()"
   ]
  },
  {
   "cell_type": "code",
   "execution_count": 3,
   "metadata": {},
   "outputs": [
    {
     "name": "stdout",
     "output_type": "stream",
     "text": [
      "+---+------+\n",
      "| id|adress|\n",
      "+---+------+\n",
      "| 75| paris|\n",
      "| 51| reims|\n",
      "| 06|  nice|\n",
      "+---+------+\n",
      "\n"
     ]
    }
   ],
   "source": [
    "Adresse = sc.parallelize([[\"75\",\"paris\"], [\"51\",\"reims\"], [\"06\",\"nice\"]]).toDF((\"id\", \"adress\"))\n",
    "Adresse.show()\n",
    "Adresse.createOrReplaceTempView(\"Adresse_sql\")"
   ]
  },
  {
   "cell_type": "code",
   "execution_count": 4,
   "metadata": {},
   "outputs": [
    {
     "name": "stdout",
     "output_type": "stream",
     "text": [
      "+---+----+\n",
      "|IDM|Prix|\n",
      "+---+----+\n",
      "|  1|  10|\n",
      "|  2|  20|\n",
      "|  3|  70|\n",
      "+---+----+\n",
      "\n"
     ]
    }
   ],
   "source": [
    "Prix = sc.parallelize([[\"1\",\"10\"], [\"2\",\"20\"], [\"3\",\"70\"]]).toDF((\"IDM\", \"Prix\"))\n",
    "Prix.show()\n",
    "Prix.createOrReplaceTempView(\"Prix_sql\")"
   ]
  },
  {
   "cell_type": "code",
   "execution_count": 5,
   "metadata": {},
   "outputs": [
    {
     "name": "stdout",
     "output_type": "stream",
     "text": [
      "+---+-------+-------+\n",
      "|IDM| Marque|Produit|\n",
      "+---+-------+-------+\n",
      "|  1|   Sony| souris|\n",
      "|  2|Samsung|clavier|\n",
      "|  3|  Apple|  ecran|\n",
      "+---+-------+-------+\n",
      "\n"
     ]
    }
   ],
   "source": [
    "Produit = sc.parallelize([[\"1\",\"Sony\",\"souris\"], [\"2\",\"Samsung\",\"clavier\"], [\"3\",\"Apple\",\"ecran\"]]).toDF((\"IDM\", \"Marque\",\"Produit\"))\n",
    "Produit.show()\n",
    "Produit.createOrReplaceTempView(\"Produit_sql\")"
   ]
  },
  {
   "cell_type": "code",
   "execution_count": 67,
   "metadata": {
    "scrolled": true
   },
   "outputs": [
    {
     "name": "stdout",
     "output_type": "stream",
     "text": [
      "+-------+------+------+--------+-----+\n",
      "|Article|Agence|Client|Quantite|Annee|\n",
      "+-------+------+------+--------+-----+\n",
      "|      3|    75|  toto|       2| 2021|\n",
      "|      2|    75|  toto|       1| 2020|\n",
      "|      1|    51|  toto|       5| 2021|\n",
      "|      2|    51|  fofo|       6| 2021|\n",
      "+-------+------+------+--------+-----+\n",
      "\n"
     ]
    }
   ],
   "source": [
    "Vente = sc.parallelize([[\"3\",\"75\",\"toto\",\"2\",\"2021\"], [\"2\",\"75\",\"toto\",\"1\",\"2020\"], [\"1\",\"51\",\"toto\",\"5\",\"2021\"],[\"2\",\"51\",\"fofo\",\"6\",\"2021\"]]).toDF((\"Article\", \"Agence\",\"Client\",\"Quantite\",\"Annee\"))\n",
    "Vente.show()\n",
    "Vente.createOrReplaceTempView(\"Vente_sql\")"
   ]
  },
  {
   "cell_type": "markdown",
   "metadata": {},
   "source": [
    "# Déterminer les prix de chaque produit"
   ]
  },
  {
   "cell_type": "code",
   "execution_count": 7,
   "metadata": {},
   "outputs": [
    {
     "name": "stdout",
     "output_type": "stream",
     "text": [
      "+-------+-------+----+\n",
      "| Marque|Produit|Prix|\n",
      "+-------+-------+----+\n",
      "|  Apple|  ecran|  70|\n",
      "|   Sony| souris|  10|\n",
      "|Samsung|clavier|  20|\n",
      "+-------+-------+----+\n",
      "\n",
      "+-------+-------+----+\n",
      "| Marque|Produit|Prix|\n",
      "+-------+-------+----+\n",
      "|  Apple|  ecran|  70|\n",
      "|   Sony| souris|  10|\n",
      "|Samsung|clavier|  20|\n",
      "+-------+-------+----+\n",
      "\n"
     ]
    }
   ],
   "source": [
    "#SQL\n",
    "spark.sql(\"\"\"SELECT Marque, Produit, Prix from Produit_sql\n",
    "    left join Prix_sql\n",
    "    on Produit_sql.IDM=Prix_sql.IDM\"\"\").show()\n",
    "\n",
    "#DSL\n",
    "Produit.join(Prix,[\"Idm\"]).drop(col(\"Idm\")).show()"
   ]
  },
  {
   "cell_type": "markdown",
   "metadata": {},
   "source": [
    "# Déterminer les articles que toto a acheté en 2021"
   ]
  },
  {
   "cell_type": "code",
   "execution_count": 14,
   "metadata": {},
   "outputs": [
    {
     "name": "stdout",
     "output_type": "stream",
     "text": [
      "+---+------+-----+------+\n",
      "|Idm|Client|Annee|Marque|\n",
      "+---+------+-----+------+\n",
      "|  3|  toto| 2021| Apple|\n",
      "|  1|  toto| 2021|  Sony|\n",
      "+---+------+-----+------+\n",
      "\n"
     ]
    }
   ],
   "source": [
    "# SQL\n",
    "spark.sql(\"\"\"select  Client,Idm, Annee, Marque from vente_sql \n",
    "    left join produit_sql \n",
    "    on vente_sql.Article = produit_sql.Idm \n",
    "    where client = 'toto' \n",
    "    and annee = '2021' \"\"\").show()"
   ]
  },
  {
   "cell_type": "code",
   "execution_count": 13,
   "metadata": {},
   "outputs": [
    {
     "name": "stdout",
     "output_type": "stream",
     "text": [
      "+------+-----+---+------+\n",
      "|Client|Annee|Idm|Marque|\n",
      "+------+-----+---+------+\n",
      "|  toto| 2021|  3| Apple|\n",
      "|  toto| 2021|  1|  Sony|\n",
      "+------+-----+---+------+\n",
      "\n"
     ]
    }
   ],
   "source": [
    "# DSL\n",
    "Vente.join(Produit, col(\"Article\") == col(\"Idm\"))\\\n",
    "     .select(\"Client\", \"Annee\", \"Idm\", \"Marque\")\\\n",
    "     .filter(col(\"Annee\") == \"2021\")\\\n",
    "     .filter(col(\"Client\") == \"toto\")\\\n",
    "     .show()"
   ]
  },
  {
   "cell_type": "markdown",
   "metadata": {},
   "source": [
    "# Montant dépensé par toto par agence"
   ]
  },
  {
   "cell_type": "code",
   "execution_count": 8,
   "metadata": {},
   "outputs": [
    {
     "name": "stdout",
     "output_type": "stream",
     "text": [
      "+-------+------+------+\n",
      "|prixtot|Agence|Client|\n",
      "+-------+------+------+\n",
      "|   50.0|    51|  toto|\n",
      "|  160.0|    75|  toto|\n",
      "+-------+------+------+\n",
      "\n"
     ]
    }
   ],
   "source": [
    "#SQL\n",
    "spark.sql(\"\"\"SELECT sum(prix*Quantite) as prixtot, Agence, Client\n",
    "        from Vente_sql\n",
    "        left join Prix_sql\n",
    "        on Vente_sql.Article=Prix_sql.IDM\n",
    "        WHERE Vente_sql.client =\"toto\" \n",
    "        GROUP BY Vente_sql.Agence, vente_sql.Client\"\"\").show()"
   ]
  },
  {
   "cell_type": "code",
   "execution_count": 12,
   "metadata": {},
   "outputs": [
    {
     "name": "stdout",
     "output_type": "stream",
     "text": [
      "+------+--------------+\n",
      "|Agence|sum(PrixTotal)|\n",
      "+------+--------------+\n",
      "|    51|          50.0|\n",
      "|    75|         160.0|\n",
      "+------+--------------+\n",
      "\n"
     ]
    }
   ],
   "source": [
    "df = Vente.join(Prix, col(\"Article\") == col(\"Idm\"))\\\n",
    "     .filter(col(\"client\") == \"toto\")\\\n",
    "     .withColumn(\"PrixTotal\", col(\"Quantite\")*col(\"Prix\").cast(IntegerType()))\\\n",
    "     .groupBy(\"Agence\")\\\n",
    "     .sum('PrixTotal')\\\n",
    "     .show()"
   ]
  },
  {
   "cell_type": "markdown",
   "metadata": {},
   "source": [
    "## Determiner le CA pour chaque agence en 2021"
   ]
  },
  {
   "cell_type": "code",
   "execution_count": 17,
   "metadata": {},
   "outputs": [
    {
     "name": "stdout",
     "output_type": "stream",
     "text": [
      "+------+-------+\n",
      "|Agence|prixtot|\n",
      "+------+-------+\n",
      "|    51|  170.0|\n",
      "|    75|  140.0|\n",
      "+------+-------+\n",
      "\n"
     ]
    }
   ],
   "source": [
    "#SQL\n",
    "spark.sql(\"\"\"SELECT Agence, sum(prix*quantite) as prixtot\n",
    "        from Vente_sql\n",
    "        left join Prix_sql\n",
    "        on Vente_sql.Article=Prix_sql.IDM\n",
    "        WHERE Vente_sql.annee =\"2021\" \n",
    "        GROUP BY Vente_sql.Agence \"\"\").show()"
   ]
  },
  {
   "cell_type": "code",
   "execution_count": 16,
   "metadata": {},
   "outputs": [
    {
     "name": "stdout",
     "output_type": "stream",
     "text": [
      "+------+-----+\n",
      "|agence|  Tot|\n",
      "+------+-----+\n",
      "|    51|170.0|\n",
      "|    75|140.0|\n",
      "+------+-----+\n",
      "\n"
     ]
    }
   ],
   "source": [
    "Vente.join(Prix, col(\"Article\") == col(\"Idm\"))\\\n",
    "    .filter(col(\"Annee\") == 2021)\\\n",
    "    .groupBy(col(\"agence\"))\\\n",
    "    .agg(F.sum(col(\"quantite\")*col(\"Prix\").alias(\"Tot\")).alias(\"Tot\"))\\\n",
    "    .show()"
   ]
  },
  {
   "cell_type": "markdown",
   "metadata": {},
   "source": [
    "## 8- Quel est le produit le plus acheté en 2021 ? "
   ]
  },
  {
   "cell_type": "code",
   "execution_count": 18,
   "metadata": {},
   "outputs": [
    {
     "name": "stdout",
     "output_type": "stream",
     "text": [
      "+-------+--------+\n",
      "|Produit|Quantite|\n",
      "+-------+--------+\n",
      "|clavier|       6|\n",
      "+-------+--------+\n",
      "\n"
     ]
    }
   ],
   "source": [
    "# SQL\n",
    "spark.sql(\"\"\"SELECT Produit, Quantite FROM Vente_SQL LEFT JOIN Produit_sql\n",
    "        ON Vente_sql.Article = Produit_sql.Idm WHERE Annee = '2021' AND Quantite = (Select MAX(Quantite) FROM Vente_SQL)\"\"\").show()"
   ]
  },
  {
   "cell_type": "code",
   "execution_count": 83,
   "metadata": {},
   "outputs": [
    {
     "name": "stdout",
     "output_type": "stream",
     "text": [
      "+-------+-------------+\n",
      "|Produit|max(Quantite)|\n",
      "+-------+-------------+\n",
      "|clavier|            6|\n",
      "+-------+-------------+\n",
      "\n"
     ]
    }
   ],
   "source": [
    "#DSL\n",
    "Vente.join(Produit, col(\"Article\") == col(\"Idm\"))\\\n",
    "    .filter(col(\"Annee\") == 2021)\\\n",
    "    .groupBy(col(\"Produit\"))\\\n",
    "    .agg({\"Quantite\": \"max\"})\\\n",
    "    .sort(\"max(Quantite)\", ascending=False)\\\n",
    "    .limit(1)\\\n",
    "    .show()"
   ]
  },
  {
   "cell_type": "markdown",
   "metadata": {},
   "source": [
    "## 9- Quel est le client qui a acheté le plus d’article. "
   ]
  },
  {
   "cell_type": "code",
   "execution_count": 87,
   "metadata": {},
   "outputs": [
    {
     "name": "stdout",
     "output_type": "stream",
     "text": [
      "+------+\n",
      "|Client|\n",
      "+------+\n",
      "|  toto|\n",
      "+------+\n",
      "\n"
     ]
    }
   ],
   "source": [
    "spark.sql(\"\"\"Select Client from Vente_SQL group by Client order by sum(CAST(Quantite AS DOUBLE)) desc LIMIT 1\"\"\").show()"
   ]
  },
  {
   "cell_type": "code",
   "execution_count": 85,
   "metadata": {},
   "outputs": [
    {
     "name": "stdout",
     "output_type": "stream",
     "text": [
      "+------+----------+\n",
      "|Client|Nb_Article|\n",
      "+------+----------+\n",
      "|  toto|       8.0|\n",
      "+------+----------+\n",
      "\n"
     ]
    }
   ],
   "source": [
    "Vente.groupBy(col(\"Client\"))\\\n",
    "    .agg(F.sum(col(\"quantite\").alias(\"Nb_Article\")).alias(\"Nb_Article\"))\\\n",
    "    .sort(col(\"Nb_Article\"), ascending=False)\\\n",
    "    .limit(1)\\\n",
    "    .show()"
   ]
  },
  {
   "cell_type": "markdown",
   "metadata": {},
   "source": [
    " ## 10- Qui est le client qui a dépensé le plus d’argent"
   ]
  },
  {
   "cell_type": "code",
   "execution_count": 88,
   "metadata": {},
   "outputs": [
    {
     "name": "stdout",
     "output_type": "stream",
     "text": [
      "+------+-------+\n",
      "|Client|depense|\n",
      "+------+-------+\n",
      "|  toto|  210.0|\n",
      "+------+-------+\n",
      "\n"
     ]
    }
   ],
   "source": [
    "#SQL\n",
    "spark.sql(\"\"\"SELECT Client, sum(prix*Quantite) as depense\n",
    "        from Vente_sql\n",
    "        left join Prix_sql\n",
    "        on Vente_sql.Article=Prix_sql.IDM \n",
    "        GROUP BY vente_sql.Client\n",
    "        ORDER BY depense desc LIMIT 1\"\"\").show()"
   ]
  },
  {
   "cell_type": "code",
   "execution_count": 94,
   "metadata": {},
   "outputs": [
    {
     "name": "stdout",
     "output_type": "stream",
     "text": [
      "+------+-------+\n",
      "|Client|dépense|\n",
      "+------+-------+\n",
      "|  toto|  210.0|\n",
      "+------+-------+\n",
      "\n"
     ]
    }
   ],
   "source": [
    "Vente.join(Prix, col(\"Article\") == col(\"Idm\"))\\\n",
    "    .groupBy(col(\"Client\"))\\\n",
    "    .agg(F.sum(col(\"quantite\")*col(\"Prix\").alias(\"dépense\")).alias(\"dépense\"))\\\n",
    "    .sort(col(\"dépense\"), ascending=False)\\\n",
    "    .limit(1)\\\n",
    "    .show()"
   ]
  }
 ],
 "metadata": {
  "kernelspec": {
   "display_name": "Python 3",
   "language": "python",
   "name": "python3"
  },
  "language_info": {
   "codemirror_mode": {
    "name": "ipython",
    "version": 3
   },
   "file_extension": ".py",
   "mimetype": "text/x-python",
   "name": "python",
   "nbconvert_exporter": "python",
   "pygments_lexer": "ipython3",
   "version": "3.8.3"
  }
 },
 "nbformat": 4,
 "nbformat_minor": 4
}
