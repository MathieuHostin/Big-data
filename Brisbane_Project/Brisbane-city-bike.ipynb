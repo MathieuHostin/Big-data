{
 "cells": [
  {
   "cell_type": "code",
   "execution_count": 93,
   "metadata": {},
   "outputs": [],
   "source": [
    "### Exercice fait main pour les GOTY ###\n",
    "\n",
    "## 1) Packages et instanciation du client Spark Session\n",
    "from pyspark.sql import SparkSession\n",
    "import configparser\n",
    "from pyspark.ml.feature import VectorAssembler\n",
    "from pyspark.ml.clustering import KMeans\n",
    "from pyspark.mllib.linalg import Vectors\n",
    "\n",
    "\n",
    "import pandas as pd\n",
    "import numpy as np\n",
    "\n",
    "from pyspark.sql import SparkSession\n",
    "from pyspark.sql.functions import format_number\n",
    "from pyspark.sql.functions import max, min\n",
    "from pyspark.sql.functions import mean\n",
    "from pyspark.sql.functions import corr\n",
    "from pyspark.sql.functions import year\n",
    "from pyspark.sql.functions import month\n",
    "from pyspark.sql.types import IntegerType, DateType, DoubleType\n",
    "\n",
    "import folium\n",
    "from folium.plugins import MarkerCluster\n",
    "import pandas as pd\n",
    "\n",
    "spark = SparkSession.builder.appName('Brisbane-city-bike').getOrCreate()\n",
    "sc = spark.sparkContext"
   ]
  },
  {
   "cell_type": "code",
   "execution_count": 94,
   "metadata": {},
   "outputs": [],
   "source": [
    "## 2) Créer un fichier properties.conf contenant les informations relatives à vos paramètres du programme en dur\n",
    "\n",
    "# properties.conf = \n",
    "# [Bristol-City-bike] \n",
    "# Input-data = spark.sql.sources.default(r\"C:\\Users\\Hosti\\Desktop\\Spark_cours\\Code\\Bristol-city-bike.json\")\n",
    "# Output-data = spark.sql.sources.default(r\"C:\\Users\\Hosti\\Desktop\\Spark_cours\\Code\")\n",
    "# Kmeans-level= 3  \n",
    "\n",
    "\n",
    "# config = configparser.ConfigParser()\n",
    "# path-to-input-data = config['Bristol-City-bike']['Input-data']\n",
    "# path-to-output-data = config['Bristol-City-bike']['Output-data']\n",
    "# num-partition-kmeans = config['Bristol-City-bike'][Kmeans-level] \n",
    "\n",
    "\n",
    "\n"
   ]
  },
  {
   "cell_type": "code",
   "execution_count": 95,
   "metadata": {},
   "outputs": [
    {
     "name": "stdout",
     "output_type": "stream",
     "text": [
      "+--------------------+----------+----------+--------------------+------+\n",
      "|             address|  latitude| longitude|                name|number|\n",
      "+--------------------+----------+----------+--------------------+------+\n",
      "|Lower River Tce /...|-27.482279|153.028723|122 - LOWER RIVER...|   122|\n",
      "|Main St / Darragh St| -27.47059|153.036046|91 - MAIN ST / DA...|    91|\n",
      "|Sydney St Ferry T...|-27.474531|153.042728|88 - SYDNEY ST FE...|    88|\n",
      "+--------------------+----------+----------+--------------------+------+\n",
      "only showing top 3 rows\n",
      "\n"
     ]
    }
   ],
   "source": [
    "## 3) Importer le json avec spark\n",
    "Brisbane = spark.read.json(r\"C:\\Users\\Hosti\\Desktop\\Spark_cours\\Code\\Bristol-city-bike.json\")\n",
    "Brisbane.show(3)"
   ]
  },
  {
   "cell_type": "code",
   "execution_count": 96,
   "metadata": {},
   "outputs": [
    {
     "name": "stdout",
     "output_type": "stream",
     "text": [
      "+----------+----------+\n",
      "|  latitude| longitude|\n",
      "+----------+----------+\n",
      "|-27.482279|153.028723|\n",
      "| -27.47059|153.036046|\n",
      "|-27.474531|153.042728|\n",
      "|-27.461881|153.046986|\n",
      "|-27.469658|153.016696|\n",
      "| -27.48172| 153.00436|\n",
      "|-27.493626|153.001482|\n",
      "|-27.476076|153.002459|\n",
      "|-27.493963|153.011938|\n",
      "|-27.482197|153.020894|\n",
      "+----------+----------+\n",
      "only showing top 10 rows\n",
      "\n"
     ]
    }
   ],
   "source": [
    "## 4) Créer un nouveau data frame Kmeans-df contenant seulement les variables latitude et longitude. \n",
    "\n",
    "Kmeans_df = Brisbane[\"latitude\", \"longitude\"]\n",
    "\n",
    "Kmeans_df.show(10)"
   ]
  },
  {
   "cell_type": "code",
   "execution_count": 97,
   "metadata": {},
   "outputs": [
    {
     "name": "stdout",
     "output_type": "stream",
     "text": [
      "+----------+----------+--------------------+\n",
      "|  latitude| longitude|            features|\n",
      "+----------+----------+--------------------+\n",
      "|-27.482279|153.028723|[-27.482279,153.0...|\n",
      "| -27.47059|153.036046|[-27.47059,153.03...|\n",
      "|-27.474531|153.042728|[-27.474531,153.0...|\n",
      "|-27.461881|153.046986|[-27.461881,153.0...|\n",
      "|-27.469658|153.016696|[-27.469658,153.0...|\n",
      "| -27.48172| 153.00436|[-27.48172,153.00...|\n",
      "|-27.493626|153.001482|[-27.493626,153.0...|\n",
      "|-27.476076|153.002459|[-27.476076,153.0...|\n",
      "|-27.493963|153.011938|[-27.493963,153.0...|\n",
      "|-27.482197|153.020894|[-27.482197,153.0...|\n",
      "|-27.465226|153.050864|[-27.465226,153.0...|\n",
      "|-27.468447|153.024662|[-27.468447,153.0...|\n",
      "|-27.473021|153.025988|[-27.473021,153.0...|\n",
      "|-27.457825|153.036866|[-27.457825,153.0...|\n",
      "| -27.48148| 153.02368|[-27.48148,153.02...|\n",
      "|-27.467464|153.022094|[-27.467464,153.0...|\n",
      "|-27.499963|153.017633|[-27.499963,153.0...|\n",
      "|-27.490776|152.994747|[-27.490776,152.9...|\n",
      "|-27.458199|153.041688|[-27.458199,153.0...|\n",
      "|-27.481808|153.025477|[-27.481808,153.0...|\n",
      "+----------+----------+--------------------+\n",
      "only showing top 20 rows\n",
      "\n"
     ]
    }
   ],
   "source": [
    "## 5) K-means\n",
    "\n",
    "features = (\"latitude\", \"longitude\")\n",
    "vecteurs = VectorAssembler(inputCols = features, outputCol = \"features\")\n",
    "Brisbane_df = vecteurs.transform(Kmeans_df)\n",
    "Brisbane_df.show()\n",
    "\n",
    "\n",
    "kmeans = KMeans().setK(3).setSeed(1)  # 3 clusters\n",
    "model = kmeans.fit(Brisbane_df.select('features'))\n",
    "fitted = model.transform(Brisbane_df)"
   ]
  },
  {
   "cell_type": "code",
   "execution_count": 98,
   "metadata": {},
   "outputs": [
    {
     "name": "stdout",
     "output_type": "stream",
     "text": [
      "+----------+----------+--------------------+----------+\n",
      "|  latitude| longitude|            features|prediction|\n",
      "+----------+----------+--------------------+----------+\n",
      "|-27.482279|153.028723|[-27.482279,153.0...|         2|\n",
      "| -27.47059|153.036046|[-27.47059,153.03...|         2|\n",
      "|-27.474531|153.042728|[-27.474531,153.0...|         1|\n",
      "|-27.461881|153.046986|[-27.461881,153.0...|         1|\n",
      "|-27.469658|153.016696|[-27.469658,153.0...|         2|\n",
      "| -27.48172| 153.00436|[-27.48172,153.00...|         0|\n",
      "|-27.493626|153.001482|[-27.493626,153.0...|         0|\n",
      "|-27.476076|153.002459|[-27.476076,153.0...|         0|\n",
      "|-27.493963|153.011938|[-27.493963,153.0...|         0|\n",
      "|-27.482197|153.020894|[-27.482197,153.0...|         2|\n",
      "|-27.465226|153.050864|[-27.465226,153.0...|         1|\n",
      "|-27.468447|153.024662|[-27.468447,153.0...|         2|\n",
      "|-27.473021|153.025988|[-27.473021,153.0...|         2|\n",
      "|-27.457825|153.036866|[-27.457825,153.0...|         1|\n",
      "| -27.48148| 153.02368|[-27.48148,153.02...|         2|\n",
      "|-27.467464|153.022094|[-27.467464,153.0...|         2|\n",
      "|-27.499963|153.017633|[-27.499963,153.0...|         0|\n",
      "|-27.490776|152.994747|[-27.490776,152.9...|         0|\n",
      "|-27.458199|153.041688|[-27.458199,153.0...|         1|\n",
      "|-27.481808|153.025477|[-27.481808,153.0...|         2|\n",
      "|-27.452027| 153.04911|[-27.452027,153.0...|         1|\n",
      "|-27.464628|153.026863|[-27.464628,153.0...|         2|\n",
      "|-27.456085| 153.03453|[-27.456085,153.0...|         1|\n",
      "| -27.46637|153.018506|[-27.46637,153.01...|         2|\n",
      "|-27.492876|153.006071|[-27.492876,153.0...|         0|\n",
      "|-27.464681|153.042561|[-27.464681,153.0...|         1|\n",
      "|-27.461041|153.037902|[-27.461041,153.0...|         1|\n",
      "|-27.454482|153.046802|[-27.454482,153.0...|         1|\n",
      "|-27.463405|153.031142|[-27.463405,153.0...|         2|\n",
      "|-27.453717|153.034042|[-27.453717,153.0...|         1|\n",
      "+----------+----------+--------------------+----------+\n",
      "only showing top 30 rows\n",
      "\n"
     ]
    }
   ],
   "source": [
    "## 6) Quels sont les noms des colonnes de fitted ? vérifier qu’il s’agit de longitude, latitude, features, predictions.\n",
    "\n",
    "fitted.show(30)"
   ]
  },
  {
   "cell_type": "code",
   "execution_count": 99,
   "metadata": {},
   "outputs": [
    {
     "name": "stdout",
     "output_type": "stream",
     "text": [
      "+-------------------+------------------+----------+\n",
      "|           Latitude|         Longitude|prediction|\n",
      "+-------------------+------------------+----------+\n",
      "|-27.460240636363633|153.04186302272726|         1|\n",
      "| -27.47255990624999|   153.02594553125|         2|\n",
      "|-27.481218536585374|153.00572882926832|         0|\n",
      "+-------------------+------------------+----------+\n",
      "\n"
     ]
    }
   ],
   "source": [
    "## 7) Déterminer les longitudes et latitudes moyennes pour chaque groupe en utilisant spark DSL et SQL. comparer les résultats\n",
    "\n",
    "fitted.createOrReplaceTempView('Table')\n",
    "\n",
    "spark.sql(\"\"\"SELECT MEAN(latitude) as Latitude, MEAN(longitude) as Longitude, prediction FROM Table GROUP BY prediction\"\"\").show()\n"
   ]
  },
  {
   "cell_type": "code",
   "execution_count": 118,
   "metadata": {
    "scrolled": false
   },
   "outputs": [
    {
     "data": {
      "text/html": [
       "<div style=\"width:100%;\"><div style=\"position:relative;width:100%;height:0;padding-bottom:60%;\"><span style=\"color:#565656\">Make this Notebook Trusted to load map: File -> Trust Notebook</span><iframe src=\"about:blank\" style=\"position:absolute;width:100%;height:100%;left:0;top:0;border:none !important;\" data-html=%3C%21DOCTYPE%20html%3E%0A%3Chead%3E%20%20%20%20%0A%20%20%20%20%3Cmeta%20http-equiv%3D%22content-type%22%20content%3D%22text/html%3B%20charset%3DUTF-8%22%20/%3E%0A%20%20%20%20%0A%20%20%20%20%20%20%20%20%3Cscript%3E%0A%20%20%20%20%20%20%20%20%20%20%20%20L_NO_TOUCH%20%3D%20false%3B%0A%20%20%20%20%20%20%20%20%20%20%20%20L_DISABLE_3D%20%3D%20false%3B%0A%20%20%20%20%20%20%20%20%3C/script%3E%0A%20%20%20%20%0A%20%20%20%20%3Cstyle%3Ehtml%2C%20body%20%7Bwidth%3A%20100%25%3Bheight%3A%20100%25%3Bmargin%3A%200%3Bpadding%3A%200%3B%7D%3C/style%3E%0A%20%20%20%20%3Cstyle%3E%23map%20%7Bposition%3Aabsolute%3Btop%3A0%3Bbottom%3A0%3Bright%3A0%3Bleft%3A0%3B%7D%3C/style%3E%0A%20%20%20%20%3Cscript%20src%3D%22https%3A//cdn.jsdelivr.net/npm/leaflet%401.6.0/dist/leaflet.js%22%3E%3C/script%3E%0A%20%20%20%20%3Cscript%20src%3D%22https%3A//code.jquery.com/jquery-1.12.4.min.js%22%3E%3C/script%3E%0A%20%20%20%20%3Cscript%20src%3D%22https%3A//maxcdn.bootstrapcdn.com/bootstrap/3.2.0/js/bootstrap.min.js%22%3E%3C/script%3E%0A%20%20%20%20%3Cscript%20src%3D%22https%3A//cdnjs.cloudflare.com/ajax/libs/Leaflet.awesome-markers/2.0.2/leaflet.awesome-markers.js%22%3E%3C/script%3E%0A%20%20%20%20%3Clink%20rel%3D%22stylesheet%22%20href%3D%22https%3A//cdn.jsdelivr.net/npm/leaflet%401.6.0/dist/leaflet.css%22/%3E%0A%20%20%20%20%3Clink%20rel%3D%22stylesheet%22%20href%3D%22https%3A//maxcdn.bootstrapcdn.com/bootstrap/3.2.0/css/bootstrap.min.css%22/%3E%0A%20%20%20%20%3Clink%20rel%3D%22stylesheet%22%20href%3D%22https%3A//maxcdn.bootstrapcdn.com/bootstrap/3.2.0/css/bootstrap-theme.min.css%22/%3E%0A%20%20%20%20%3Clink%20rel%3D%22stylesheet%22%20href%3D%22https%3A//maxcdn.bootstrapcdn.com/font-awesome/4.6.3/css/font-awesome.min.css%22/%3E%0A%20%20%20%20%3Clink%20rel%3D%22stylesheet%22%20href%3D%22https%3A//cdnjs.cloudflare.com/ajax/libs/Leaflet.awesome-markers/2.0.2/leaflet.awesome-markers.css%22/%3E%0A%20%20%20%20%3Clink%20rel%3D%22stylesheet%22%20href%3D%22https%3A//cdn.jsdelivr.net/gh/python-visualization/folium/folium/templates/leaflet.awesome.rotate.min.css%22/%3E%0A%20%20%20%20%0A%20%20%20%20%20%20%20%20%20%20%20%20%3Cmeta%20name%3D%22viewport%22%20content%3D%22width%3Ddevice-width%2C%0A%20%20%20%20%20%20%20%20%20%20%20%20%20%20%20%20initial-scale%3D1.0%2C%20maximum-scale%3D1.0%2C%20user-scalable%3Dno%22%20/%3E%0A%20%20%20%20%20%20%20%20%20%20%20%20%3Cstyle%3E%0A%20%20%20%20%20%20%20%20%20%20%20%20%20%20%20%20%23map_de3504634d7042e3bd8c303447dbb180%20%7B%0A%20%20%20%20%20%20%20%20%20%20%20%20%20%20%20%20%20%20%20%20position%3A%20relative%3B%0A%20%20%20%20%20%20%20%20%20%20%20%20%20%20%20%20%20%20%20%20width%3A%20100.0%25%3B%0A%20%20%20%20%20%20%20%20%20%20%20%20%20%20%20%20%20%20%20%20height%3A%20100.0%25%3B%0A%20%20%20%20%20%20%20%20%20%20%20%20%20%20%20%20%20%20%20%20left%3A%200.0%25%3B%0A%20%20%20%20%20%20%20%20%20%20%20%20%20%20%20%20%20%20%20%20top%3A%200.0%25%3B%0A%20%20%20%20%20%20%20%20%20%20%20%20%20%20%20%20%7D%0A%20%20%20%20%20%20%20%20%20%20%20%20%3C/style%3E%0A%20%20%20%20%20%20%20%20%0A%3C/head%3E%0A%3Cbody%3E%20%20%20%20%0A%20%20%20%20%0A%20%20%20%20%20%20%20%20%20%20%20%20%3Cdiv%20class%3D%22folium-map%22%20id%3D%22map_de3504634d7042e3bd8c303447dbb180%22%20%3E%3C/div%3E%0A%20%20%20%20%20%20%20%20%0A%3C/body%3E%0A%3Cscript%3E%20%20%20%20%0A%20%20%20%20%0A%20%20%20%20%20%20%20%20%20%20%20%20var%20map_de3504634d7042e3bd8c303447dbb180%20%3D%20L.map%28%0A%20%20%20%20%20%20%20%20%20%20%20%20%20%20%20%20%22map_de3504634d7042e3bd8c303447dbb180%22%2C%0A%20%20%20%20%20%20%20%20%20%20%20%20%20%20%20%20%7B%0A%20%20%20%20%20%20%20%20%20%20%20%20%20%20%20%20%20%20%20%20center%3A%20%5B-27.47130457718122%2C%20153.02508301342277%5D%2C%0A%20%20%20%20%20%20%20%20%20%20%20%20%20%20%20%20%20%20%20%20crs%3A%20L.CRS.EPSG3857%2C%0A%20%20%20%20%20%20%20%20%20%20%20%20%20%20%20%20%20%20%20%20zoom%3A%2014%2C%0A%20%20%20%20%20%20%20%20%20%20%20%20%20%20%20%20%20%20%20%20zoomControl%3A%20true%2C%0A%20%20%20%20%20%20%20%20%20%20%20%20%20%20%20%20%20%20%20%20preferCanvas%3A%20false%2C%0A%20%20%20%20%20%20%20%20%20%20%20%20%20%20%20%20%7D%0A%20%20%20%20%20%20%20%20%20%20%20%20%29%3B%0A%0A%20%20%20%20%20%20%20%20%20%20%20%20%0A%0A%20%20%20%20%20%20%20%20%0A%20%20%20%20%0A%20%20%20%20%20%20%20%20%20%20%20%20var%20tile_layer_0e916d8d41424ed6b2746bbbaa3ebaf0%20%3D%20L.tileLayer%28%0A%20%20%20%20%20%20%20%20%20%20%20%20%20%20%20%20%22https%3A//%7Bs%7D.tile.openstreetmap.org/%7Bz%7D/%7Bx%7D/%7By%7D.png%22%2C%0A%20%20%20%20%20%20%20%20%20%20%20%20%20%20%20%20%7B%22attribution%22%3A%20%22Data%20by%20%5Cu0026copy%3B%20%5Cu003ca%20href%3D%5C%22http%3A//openstreetmap.org%5C%22%5Cu003eOpenStreetMap%5Cu003c/a%5Cu003e%2C%20under%20%5Cu003ca%20href%3D%5C%22http%3A//www.openstreetmap.org/copyright%5C%22%5Cu003eODbL%5Cu003c/a%5Cu003e.%22%2C%20%22detectRetina%22%3A%20false%2C%20%22maxNativeZoom%22%3A%2018%2C%20%22maxZoom%22%3A%2018%2C%20%22minZoom%22%3A%200%2C%20%22noWrap%22%3A%20false%2C%20%22opacity%22%3A%201%2C%20%22subdomains%22%3A%20%22abc%22%2C%20%22tms%22%3A%20false%7D%0A%20%20%20%20%20%20%20%20%20%20%20%20%29.addTo%28map_de3504634d7042e3bd8c303447dbb180%29%3B%0A%20%20%20%20%20%20%20%20%0A%20%20%20%20%0A%20%20%20%20%20%20%20%20%20%20%20%20var%20marker_9264e47f92794e09a03284b371b7ddcd%20%3D%20L.marker%28%0A%20%20%20%20%20%20%20%20%20%20%20%20%20%20%20%20%5B-27.460240636363633%2C%20153.04186302272726%5D%2C%0A%20%20%20%20%20%20%20%20%20%20%20%20%20%20%20%20%7B%7D%0A%20%20%20%20%20%20%20%20%20%20%20%20%29.addTo%28map_de3504634d7042e3bd8c303447dbb180%29%3B%0A%20%20%20%20%20%20%20%20%0A%20%20%20%20%0A%20%20%20%20%20%20%20%20var%20popup_2889ef4d052a4d4483c70326211fea0e%20%3D%20L.popup%28%7B%22maxWidth%22%3A%20%22100%25%22%7D%29%3B%0A%0A%20%20%20%20%20%20%20%20%0A%20%20%20%20%20%20%20%20%20%20%20%20var%20html_576ae6f40e6b443496541d43d49fe494%20%3D%20%24%28%60%3Cdiv%20id%3D%22html_576ae6f40e6b443496541d43d49fe494%22%20style%3D%22width%3A%20100.0%25%3B%20height%3A%20100.0%25%3B%22%3EBrisbane%3C/div%3E%60%29%5B0%5D%3B%0A%20%20%20%20%20%20%20%20%20%20%20%20popup_2889ef4d052a4d4483c70326211fea0e.setContent%28html_576ae6f40e6b443496541d43d49fe494%29%3B%0A%20%20%20%20%20%20%20%20%0A%0A%20%20%20%20%20%20%20%20marker_9264e47f92794e09a03284b371b7ddcd.bindPopup%28popup_2889ef4d052a4d4483c70326211fea0e%29%0A%20%20%20%20%20%20%20%20%3B%0A%0A%20%20%20%20%20%20%20%20%0A%20%20%20%20%0A%20%20%20%20%0A%20%20%20%20%20%20%20%20%20%20%20%20var%20marker_e75eb2601dc0499fbf5c9f44256587d6%20%3D%20L.marker%28%0A%20%20%20%20%20%20%20%20%20%20%20%20%20%20%20%20%5B-27.47255990624999%2C%20153.02594553125%5D%2C%0A%20%20%20%20%20%20%20%20%20%20%20%20%20%20%20%20%7B%7D%0A%20%20%20%20%20%20%20%20%20%20%20%20%29.addTo%28map_de3504634d7042e3bd8c303447dbb180%29%3B%0A%20%20%20%20%20%20%20%20%0A%20%20%20%20%0A%20%20%20%20%20%20%20%20var%20popup_bf60cc8d73cf4c7c9936713715aa81f4%20%3D%20L.popup%28%7B%22maxWidth%22%3A%20%22100%25%22%7D%29%3B%0A%0A%20%20%20%20%20%20%20%20%0A%20%20%20%20%20%20%20%20%20%20%20%20var%20html_d0a3713c29a14335b9bcd126070d1bc1%20%3D%20%24%28%60%3Cdiv%20id%3D%22html_d0a3713c29a14335b9bcd126070d1bc1%22%20style%3D%22width%3A%20100.0%25%3B%20height%3A%20100.0%25%3B%22%3EBrisbane%3C/div%3E%60%29%5B0%5D%3B%0A%20%20%20%20%20%20%20%20%20%20%20%20popup_bf60cc8d73cf4c7c9936713715aa81f4.setContent%28html_d0a3713c29a14335b9bcd126070d1bc1%29%3B%0A%20%20%20%20%20%20%20%20%0A%0A%20%20%20%20%20%20%20%20marker_e75eb2601dc0499fbf5c9f44256587d6.bindPopup%28popup_bf60cc8d73cf4c7c9936713715aa81f4%29%0A%20%20%20%20%20%20%20%20%3B%0A%0A%20%20%20%20%20%20%20%20%0A%20%20%20%20%0A%20%20%20%20%0A%20%20%20%20%20%20%20%20%20%20%20%20var%20marker_b9717da0c3d24fd0aafaeb8c54df4ce0%20%3D%20L.marker%28%0A%20%20%20%20%20%20%20%20%20%20%20%20%20%20%20%20%5B-27.481218536585374%2C%20153.00572882926832%5D%2C%0A%20%20%20%20%20%20%20%20%20%20%20%20%20%20%20%20%7B%7D%0A%20%20%20%20%20%20%20%20%20%20%20%20%29.addTo%28map_de3504634d7042e3bd8c303447dbb180%29%3B%0A%20%20%20%20%20%20%20%20%0A%20%20%20%20%0A%20%20%20%20%20%20%20%20var%20popup_69032077c4b24a91a1f82be45ced2365%20%3D%20L.popup%28%7B%22maxWidth%22%3A%20%22100%25%22%7D%29%3B%0A%0A%20%20%20%20%20%20%20%20%0A%20%20%20%20%20%20%20%20%20%20%20%20var%20html_7e7ef8c8e45a4a5a92e18e4d31a28f32%20%3D%20%24%28%60%3Cdiv%20id%3D%22html_7e7ef8c8e45a4a5a92e18e4d31a28f32%22%20style%3D%22width%3A%20100.0%25%3B%20height%3A%20100.0%25%3B%22%3EBrisbane%3C/div%3E%60%29%5B0%5D%3B%0A%20%20%20%20%20%20%20%20%20%20%20%20popup_69032077c4b24a91a1f82be45ced2365.setContent%28html_7e7ef8c8e45a4a5a92e18e4d31a28f32%29%3B%0A%20%20%20%20%20%20%20%20%0A%0A%20%20%20%20%20%20%20%20marker_b9717da0c3d24fd0aafaeb8c54df4ce0.bindPopup%28popup_69032077c4b24a91a1f82be45ced2365%29%0A%20%20%20%20%20%20%20%20%3B%0A%0A%20%20%20%20%20%20%20%20%0A%20%20%20%20%0A%3C/script%3E onload=\"this.contentDocument.open();this.contentDocument.write(    decodeURIComponent(this.getAttribute('data-html')));this.contentDocument.close();\" allowfullscreen webkitallowfullscreen mozallowfullscreen></iframe></div></div>"
      ],
      "text/plain": [
       "<folium.folium.Map at 0x267b8364f70>"
      ]
     },
     "execution_count": 118,
     "metadata": {},
     "output_type": "execute_result"
    }
   ],
   "source": [
    "## 8) Bonus:  Faire une visualisation dans une map avec le package leaflet \n",
    "\n",
    "m = folium.Map(location=[-27.47130457718122, 153.02508301342277], zoom_start=14)\n",
    "\n",
    "popup = \"Brisbane\"\n",
    "marker_1 = folium.Marker([-27.460240636363633, 153.04186302272726], popup=popup)\n",
    "marker_2 = folium.Marker([-27.47255990624999, 153.02594553125], popup=popup)\n",
    "marker_3 = folium.Marker([-27.481218536585374, 153.00572882926832], popup=popup)\n",
    "\n",
    "m.add_child(marker_1)\n",
    "m.add_child(marker_2)\n",
    "m.add_child(marker_3)\n",
    "\n",
    "m"
   ]
  },
  {
   "cell_type": "code",
   "execution_count": 9,
   "metadata": {},
   "outputs": [],
   "source": [
    "## 9) Exporter la data frame fitted après élimination de la colonne  features, dans le répertoire path-to-output-data"
   ]
  },
  {
   "cell_type": "code",
   "execution_count": null,
   "metadata": {},
   "outputs": [],
   "source": []
  }
 ],
 "metadata": {
  "kernelspec": {
   "display_name": "Python 3",
   "language": "python",
   "name": "python3"
  },
  "language_info": {
   "codemirror_mode": {
    "name": "ipython",
    "version": 3
   },
   "file_extension": ".py",
   "mimetype": "text/x-python",
   "name": "python",
   "nbconvert_exporter": "python",
   "pygments_lexer": "ipython3",
   "version": "3.8.3"
  }
 },
 "nbformat": 4,
 "nbformat_minor": 4
}
