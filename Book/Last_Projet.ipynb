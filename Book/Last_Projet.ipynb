{
 "cells": [
  {
   "cell_type": "code",
   "execution_count": 1,
   "metadata": {},
   "outputs": [],
   "source": [
    "## Import \n",
    "\n",
    "import findspark\n",
    "import py4j\n",
    "import numpy as np\n",
    "import pandas as pd\n",
    "findspark.init(\"D:\\logiciels\\spark\")\n",
    "\n",
    "\n",
    "from pyspark.sql import SparkSession\n",
    "from pyspark import SparkContext, SparkConf\n",
    "from pyspark.sql.functions import col, when\n",
    "from pyspark.sql import functions as F\n",
    "from pyspark.sql.types import IntegerType\n",
    "from pyspark.sql.functions import datediff, to_date\n"
   ]
  },
  {
   "cell_type": "code",
   "execution_count": 2,
   "metadata": {},
   "outputs": [],
   "source": [
    "spark = SparkSession.builder.appName('Big_data').getOrCreate()\n",
    "sc = spark.sparkContext # Lancement de la session Spark"
   ]
  },
  {
   "cell_type": "code",
   "execution_count": 3,
   "metadata": {},
   "outputs": [
    {
     "name": "stdout",
     "output_type": "stream",
     "text": [
      "+-----+-----------------+\n",
      "|  aid|             name|\n",
      "+-----+-----------------+\n",
      "|07890| Jean Paul Sartre|\n",
      "|05678|Pierre de Ronsard|\n",
      "+-----+-----------------+\n",
      "\n"
     ]
    }
   ],
   "source": [
    "Author = sc.parallelize([[\"07890\", \"Jean Paul Sartre\"], [\"05678\", \"Pierre de Ronsard\"]]).toDF((\"aid\", \"name\"))\n",
    "Author.show()\n",
    "Author.createOrReplaceTempView(\"Author_sql\")"
   ]
  },
  {
   "cell_type": "code",
   "execution_count": 4,
   "metadata": {},
   "outputs": [
    {
     "name": "stdout",
     "output_type": "stream",
     "text": [
      "+----+--------------------+-----------+\n",
      "| bid|               title|   category|\n",
      "+----+--------------------+-----------+\n",
      "|0001|L'existentialisme...|Philosophie|\n",
      "|0002|Huis clos. Suivi ...|Philosophie|\n",
      "|0003|Mignonne allons v...|      Poeme|\n",
      "|0004|          Les Amours|      Poème|\n",
      "+----+--------------------+-----------+\n",
      "\n"
     ]
    }
   ],
   "source": [
    "book = sc.parallelize([[\"0001\", \"L'existentialisme est un humanisme\", \"Philosophie\"], [\"0002\", \"Huis clos. Suivi de Les Mouches\", \"Philosophie\"], [\"0003\", \"Mignonne allons voir si la rose\", \"Poeme\"], [\"0004\", \"Les Amours\", \"Poème\"]]).toDF((\"bid\", \"title\", \"category\"))\n",
    "book.show()\n",
    "book.createOrReplaceTempView(\"book_sql\")"
   ]
  },
  {
   "cell_type": "code",
   "execution_count": 5,
   "metadata": {},
   "outputs": [
    {
     "name": "stdout",
     "output_type": "stream",
     "text": [
      "+---+-----+---------+\n",
      "|sid|sname|     dept|\n",
      "+---+-----+---------+\n",
      "|S15| toto|     Math|\n",
      "|S16| popo|      Eco|\n",
      "|S17| fofo|Mécanique|\n",
      "+---+-----+---------+\n",
      "\n"
     ]
    }
   ],
   "source": [
    "Student = sc.parallelize([[\"S15\", \"toto\", \"Math\"], [\"S16\", \"popo\", \"Eco\"], [\"S17\", \"fofo\", \"Mécanique\"]]).toDF((\"sid\", \"sname\", \"dept\"))\n",
    "Student.show()\n",
    "Student.createOrReplaceTempView(\"Student_sql\")"
   ]
  },
  {
   "cell_type": "code",
   "execution_count": 6,
   "metadata": {},
   "outputs": [
    {
     "name": "stdout",
     "output_type": "stream",
     "text": [
      "+-----+----+\n",
      "|  aid| bid|\n",
      "+-----+----+\n",
      "|07890|0001|\n",
      "|07890|0002|\n",
      "|05678|0003|\n",
      "|05678|0003|\n",
      "+-----+----+\n",
      "\n"
     ]
    }
   ],
   "source": [
    "write = sc.parallelize([[\"07890\", \"0001\"], [\"07890\", \"0002\"], [\"05678\", \"0003\"], [\"05678\", \"0003\"]]).toDF((\"aid\", \"bid\"))\n",
    "write.show()\n",
    "write.createOrReplaceTempView(\"write_sql\")"
   ]
  },
  {
   "cell_type": "code",
   "execution_count": 7,
   "metadata": {},
   "outputs": [
    {
     "name": "stdout",
     "output_type": "stream",
     "text": [
      "+---+----+-------------+-----------+\n",
      "|sid| bid|checkout_time|return_time|\n",
      "+---+----+-------------+-----------+\n",
      "|S15|0003|   02-01-2020| 01-02-2020|\n",
      "|S15|0002|   13-06-2020|       null|\n",
      "|S15|0001|   13-06-2020| 13-10-2020|\n",
      "|S16|0002|   24-01-2020| 24-01-2020|\n",
      "|S17|0001|   12-04-2020| 01-07-2020|\n",
      "+---+----+-------------+-----------+\n",
      "\n"
     ]
    }
   ],
   "source": [
    "borrow = sc.parallelize([[\"S15\", \"0003\", \"02-01-2020\",\"01-02-2020\"], [\"S15\", \"0002\", \"13-06-2020\",None], [\"S15\", \"0001\", \"13-06-2020\",\"13-10-2020\"], [\"S16\", \"0002\", \"24-01-2020\",\"24-01-2020\"],[\"S17\", \"0001\", \"12-04-2020\",\"01-07-2020\"]]).toDF((\"sid\", \"bid\", \"checkout_time\", \"return_time\")) \n",
    "borrow.show() \n",
    "borrow.createOrReplaceTempView(\"borrow_sql\")"
   ]
  },
  {
   "cell_type": "markdown",
   "metadata": {},
   "source": [
    "# 1-Trouver les titres de tous les livres que l'étudiant sid='S15' a emprunté."
   ]
  },
  {
   "cell_type": "markdown",
   "metadata": {},
   "source": [
    "## DSL"
   ]
  },
  {
   "cell_type": "code",
   "execution_count": 8,
   "metadata": {},
   "outputs": [
    {
     "name": "stdout",
     "output_type": "stream",
     "text": [
      "+--------------------+\n",
      "|               title|\n",
      "+--------------------+\n",
      "|Huis clos. Suivi ...|\n",
      "|Mignonne allons v...|\n",
      "|L'existentialisme...|\n",
      "+--------------------+\n",
      "\n"
     ]
    }
   ],
   "source": [
    "borrow.join(book, \"bid\")\\\n",
    "    .select(\"title\")\\\n",
    "    .filter(col(\"sid\") == \"S15\")\\\n",
    "    .show()"
   ]
  },
  {
   "cell_type": "markdown",
   "metadata": {},
   "source": [
    "## SQL"
   ]
  },
  {
   "cell_type": "code",
   "execution_count": 9,
   "metadata": {},
   "outputs": [
    {
     "name": "stdout",
     "output_type": "stream",
     "text": [
      "+--------------------+\n",
      "|               title|\n",
      "+--------------------+\n",
      "|Huis clos. Suivi ...|\n",
      "|Mignonne allons v...|\n",
      "|L'existentialisme...|\n",
      "+--------------------+\n",
      "\n"
     ]
    }
   ],
   "source": [
    "spark.sql(\"\"\"SELECT book_sql.title FROM borrow_sql \n",
    "    LEFT JOIN book_sql \n",
    "    ON borrow_sql.bid = book_sql.bid \n",
    "    WHERE borrow_sql.sid = 'S15' \"\"\").show()"
   ]
  },
  {
   "cell_type": "markdown",
   "metadata": {},
   "source": [
    "# 2-Trouver les titres de tous les livres qui n'ont jamais été empruntés par un étudiant."
   ]
  },
  {
   "cell_type": "markdown",
   "metadata": {},
   "source": [
    "## DSL"
   ]
  },
  {
   "cell_type": "code",
   "execution_count": 10,
   "metadata": {},
   "outputs": [
    {
     "name": "stdout",
     "output_type": "stream",
     "text": [
      "+----------+\n",
      "|     title|\n",
      "+----------+\n",
      "|Les Amours|\n",
      "+----------+\n",
      "\n"
     ]
    }
   ],
   "source": [
    "borrow.join(book, \"bid\",how=\"right\")\\\n",
    "        .select(\"title\")\\\n",
    "        .filter(col(\"checkout_time\").isNull())\\\n",
    "        .show()"
   ]
  },
  {
   "cell_type": "markdown",
   "metadata": {},
   "source": [
    "## SQL"
   ]
  },
  {
   "cell_type": "code",
   "execution_count": 11,
   "metadata": {},
   "outputs": [
    {
     "name": "stdout",
     "output_type": "stream",
     "text": [
      "+----------+\n",
      "|     title|\n",
      "+----------+\n",
      "|Les Amours|\n",
      "+----------+\n",
      "\n"
     ]
    }
   ],
   "source": [
    "spark.sql(\"\"\"SELECT book_sql.title FROM book_sql \n",
    "    LEFT JOIN borrow_sql \n",
    "    ON borrow_sql.bid = book_sql.bid \n",
    "    WHERE borrow_sql.bid IS NULL \"\"\").show()"
   ]
  },
  {
   "cell_type": "markdown",
   "metadata": {},
   "source": [
    "## 3-Trouver tous les étudiants qui ont emprunté le livre bid=’002’."
   ]
  },
  {
   "cell_type": "markdown",
   "metadata": {},
   "source": [
    "# DSL"
   ]
  },
  {
   "cell_type": "code",
   "execution_count": 12,
   "metadata": {},
   "outputs": [
    {
     "name": "stdout",
     "output_type": "stream",
     "text": [
      "+-----+\n",
      "|sname|\n",
      "+-----+\n",
      "| popo|\n",
      "| toto|\n",
      "+-----+\n",
      "\n"
     ]
    }
   ],
   "source": [
    "Student.join(borrow, \"sid\")\\\n",
    "    .select(\"sname\")\\\n",
    "    .filter(col(\"bid\") == \"0002\")\\\n",
    "    .show()"
   ]
  },
  {
   "cell_type": "markdown",
   "metadata": {},
   "source": [
    "## SQL"
   ]
  },
  {
   "cell_type": "code",
   "execution_count": 13,
   "metadata": {},
   "outputs": [
    {
     "name": "stdout",
     "output_type": "stream",
     "text": [
      "+-----+\n",
      "|sname|\n",
      "+-----+\n",
      "| popo|\n",
      "| toto|\n",
      "+-----+\n",
      "\n"
     ]
    }
   ],
   "source": [
    "spark.sql(\"\"\"SELECT sname FROM Student_sql \n",
    "    LEFT JOIN borrow_sql \n",
    "    ON Student_sql.sid = borrow_sql.sid \n",
    "    WHERE borrow_sql.bid = '0002' \"\"\").show()"
   ]
  },
  {
   "cell_type": "markdown",
   "metadata": {},
   "source": [
    "# 4-Trouver les titres de tous les livres empruntés par des étudiants en mécanique."
   ]
  },
  {
   "cell_type": "markdown",
   "metadata": {},
   "source": [
    "## DSL"
   ]
  },
  {
   "cell_type": "code",
   "execution_count": 14,
   "metadata": {},
   "outputs": [
    {
     "name": "stdout",
     "output_type": "stream",
     "text": [
      "+---+---------+--------------------+\n",
      "|sid|     dept|               title|\n",
      "+---+---------+--------------------+\n",
      "|S17|Mécanique|L'existentialisme...|\n",
      "+---+---------+--------------------+\n",
      "\n"
     ]
    }
   ],
   "source": [
    "Student.join(borrow, \"sid\")\\\n",
    "    .join(book, \"bid\")\\\n",
    "    .select(\"sid\", \"dept\", \"title\")\\\n",
    "    .filter(col(\"dept\") == \"Mécanique\")\\\n",
    "    .show()"
   ]
  },
  {
   "cell_type": "markdown",
   "metadata": {},
   "source": [
    "## SQL"
   ]
  },
  {
   "cell_type": "code",
   "execution_count": 15,
   "metadata": {},
   "outputs": [
    {
     "name": "stdout",
     "output_type": "stream",
     "text": [
      "+---+---------+--------------------+\n",
      "|sid|     dept|               title|\n",
      "+---+---------+--------------------+\n",
      "|S17|Mécanique|L'existentialisme...|\n",
      "+---+---------+--------------------+\n",
      "\n"
     ]
    }
   ],
   "source": [
    "spark.sql(\"\"\" SELECT Student_sql.sid, dept, title FROM Student_sql \n",
    "    LEFT JOIN borrow_sql \n",
    "    ON borrow_sql.sid = Student_sql.sid\n",
    "    LEFT JOIN book_sql \n",
    "    ON borrow_sql.bid = book_sql.bid \n",
    "    WHERE Student_sql.dept = 'Mécanique' \"\"\").show()"
   ]
  },
  {
   "cell_type": "markdown",
   "metadata": {},
   "source": [
    "# 5-Trouver les étudiants qui n’ont jamais emprunté de livre."
   ]
  },
  {
   "cell_type": "markdown",
   "metadata": {},
   "source": [
    "## DSL"
   ]
  },
  {
   "cell_type": "code",
   "execution_count": 16,
   "metadata": {},
   "outputs": [
    {
     "name": "stdout",
     "output_type": "stream",
     "text": [
      "+-----+\n",
      "|sname|\n",
      "+-----+\n",
      "+-----+\n",
      "\n"
     ]
    }
   ],
   "source": [
    "Student.join(borrow, \"sid\")\\\n",
    "    .select(\"sname\")\\\n",
    "    .filter(col(\"checkout_time\").isNull())\\\n",
    "    .show()"
   ]
  },
  {
   "cell_type": "markdown",
   "metadata": {},
   "source": [
    "## SQL"
   ]
  },
  {
   "cell_type": "code",
   "execution_count": 17,
   "metadata": {},
   "outputs": [
    {
     "name": "stdout",
     "output_type": "stream",
     "text": [
      "+-----+\n",
      "|sname|\n",
      "+-----+\n",
      "+-----+\n",
      "\n"
     ]
    }
   ],
   "source": [
    "spark.sql(\"\"\"SELECT sname FROM Student_sql \n",
    "    LEFT JOIN borrow_sql \n",
    "    ON Student_sql.sid = borrow_sql.sid \n",
    "    WHERE borrow_sql.checkout_time IS NULL\"\"\").show()"
   ]
  },
  {
   "cell_type": "markdown",
   "metadata": {},
   "source": [
    "# 6- Déterminer l’auteur qui a écrit le plus de livres."
   ]
  },
  {
   "cell_type": "markdown",
   "metadata": {},
   "source": [
    "## DSL"
   ]
  },
  {
   "cell_type": "code",
   "execution_count": 18,
   "metadata": {},
   "outputs": [
    {
     "name": "stdout",
     "output_type": "stream",
     "text": [
      "+----------------+-----------+\n",
      "|            name|count(name)|\n",
      "+----------------+-----------+\n",
      "|Jean Paul Sartre|          2|\n",
      "+----------------+-----------+\n",
      "\n"
     ]
    }
   ],
   "source": [
    "Author.join(write, \"aid\", how=\"left\")\\\n",
    "        .distinct()\\\n",
    "        .groupBy(\"name\")\\\n",
    "        .agg(F.count(col(\"name\")))\\\n",
    "        .sort(\"name\",ascending = True)\\\n",
    "        .limit(1)\\\n",
    "        .show()"
   ]
  },
  {
   "cell_type": "markdown",
   "metadata": {},
   "source": [
    "## SQL"
   ]
  },
  {
   "cell_type": "code",
   "execution_count": 19,
   "metadata": {},
   "outputs": [
    {
     "name": "stdout",
     "output_type": "stream",
     "text": [
      "+----------------+---+\n",
      "|            name| nb|\n",
      "+----------------+---+\n",
      "|Jean Paul Sartre|  2|\n",
      "+----------------+---+\n",
      "\n"
     ]
    }
   ],
   "source": [
    "spark.sql(\"\"\" SELECT name, COUNT(DISTINCT write_sql.bid) as nb FROM Author_sql\n",
    "    LEFT JOIN write_sql \n",
    "    ON Author_sql.aid = write_sql.aid \n",
    "    GROUP BY name\n",
    "    ORDER BY nb desc LIMIT 1 \"\"\").show()"
   ]
  },
  {
   "cell_type": "markdown",
   "metadata": {},
   "source": [
    "# 7- Déterminer les personnes qui n’ont pas encore rendu les livres.\n"
   ]
  },
  {
   "cell_type": "markdown",
   "metadata": {},
   "source": [
    "## DSL"
   ]
  },
  {
   "cell_type": "code",
   "execution_count": 27,
   "metadata": {},
   "outputs": [
    {
     "name": "stdout",
     "output_type": "stream",
     "text": [
      "+-----+\n",
      "|sname|\n",
      "+-----+\n",
      "| toto|\n",
      "+-----+\n",
      "\n"
     ]
    }
   ],
   "source": [
    "Student.join(borrow, \"sid\", how =\"left\")\\\n",
    "        .select(\"sname\")\\\n",
    "        .filter(col(\"return_time\").isNull())\\\n",
    "        .show()"
   ]
  },
  {
   "cell_type": "markdown",
   "metadata": {},
   "source": [
    "## SQL"
   ]
  },
  {
   "cell_type": "code",
   "execution_count": 21,
   "metadata": {},
   "outputs": [
    {
     "name": "stdout",
     "output_type": "stream",
     "text": [
      "+-----+\n",
      "|sname|\n",
      "+-----+\n",
      "| toto|\n",
      "+-----+\n",
      "\n"
     ]
    }
   ],
   "source": [
    "spark.sql(\"\"\" SELECT sname FROM Student_sql WHERE sid IN\n",
    "    (SELECT sid FROM borrow_sql WHERE return_time IS NULL) \"\"\").show()"
   ]
  },
  {
   "cell_type": "markdown",
   "metadata": {},
   "source": [
    "# 8- Créer une nouvelle colonne dans la table borrow qui prend la valeur 1, si la durée d'emprunt est supérieur à 3 mois,  sinon 0.  (utiliser la fonction spark to_date) par la suite faire un export des données en CSV. dans un répertoire nommé contention (Attention pas de path en dur ! )"
   ]
  },
  {
   "cell_type": "code",
   "execution_count": 22,
   "metadata": {},
   "outputs": [],
   "source": [
    "borrow = borrow.withColumn(\"Sup_3_mois\",\n",
    "                 datediff(to_date(\"return_time\",\"dd-MM-yyyy\"),\n",
    "                         to_date(\"checkout_time\",\"dd-MM-yyyy\")))\\\n",
    "        "
   ]
  },
  {
   "cell_type": "code",
   "execution_count": 124,
   "metadata": {},
   "outputs": [
    {
     "name": "stdout",
     "output_type": "stream",
     "text": [
      "+---+----+-------------+-----------+----------+\n",
      "|sid| bid|checkout_time|return_time|Sup_3_mois|\n",
      "+---+----+-------------+-----------+----------+\n",
      "|S15|0003|   02-01-2020| 01-02-2020|        30|\n",
      "|S15|0002|   13-06-2020|       null|      null|\n",
      "|S15|0001|   13-06-2020| 13-10-2020|       122|\n",
      "|S16|0002|   24-01-2020| 24-01-2020|         0|\n",
      "|S17|0001|   12-04-2020| 01-07-2020|        80|\n",
      "+---+----+-------------+-----------+----------+\n",
      "\n"
     ]
    }
   ],
   "source": [
    "borrow.show()"
   ]
  },
  {
   "cell_type": "code",
   "execution_count": 132,
   "metadata": {
    "scrolled": true
   },
   "outputs": [],
   "source": [
    "Superbase = borrow.withColumn(\"Sup_3_mois\",when(col(\"Sup_3_mois\")>=90,1).when(col(\"Sup_3_mois\")<90,0).otherwise(None))"
   ]
  },
  {
   "cell_type": "code",
   "execution_count": 135,
   "metadata": {},
   "outputs": [],
   "source": [
    "Superbase.toPandas().to_csv(\"borrow.csv\")\n"
   ]
  },
  {
   "cell_type": "markdown",
   "metadata": {},
   "source": [
    "# 9-déterminer les livres qui n’ont jamais été empruntés. "
   ]
  },
  {
   "cell_type": "markdown",
   "metadata": {},
   "source": [
    "##  cf voir question 2"
   ]
  }
 ],
 "metadata": {
  "kernelspec": {
   "display_name": "Python 3",
   "language": "python",
   "name": "python3"
  },
  "language_info": {
   "codemirror_mode": {
    "name": "ipython",
    "version": 3
   },
   "file_extension": ".py",
   "mimetype": "text/x-python",
   "name": "python",
   "nbconvert_exporter": "python",
   "pygments_lexer": "ipython3",
   "version": "3.8.3"
  }
 },
 "nbformat": 4,
 "nbformat_minor": 4
}
